{
 "cells": [
  {
   "cell_type": "markdown",
   "metadata": {
    "colab_type": "text",
    "id": "I6jmLA-RYrt5"
   },
   "source": [
    "<h2>Soal 1: Helper Function</h2>\n",
    "\n",
    "Jawab Pertanyaan di bawah ini:\n",
    "\n",
    "Misalkan kamu ingin mengetahui tentang kegunaan fungsi 'len' di Python, maka fungsi apa yang bisa kamu gunakan untuk menolong kamu?"
   ]
  },
  {
   "cell_type": "code",
   "execution_count": 1,
   "metadata": {
    "colab": {},
    "colab_type": "code",
    "id": "VrvyQxGJYrt9"
   },
   "outputs": [
    {
     "name": "stdout",
     "output_type": "stream",
     "text": [
      "Help on built-in function len in module builtins:\n",
      "\n",
      "len(obj, /)\n",
      "    Return the number of items in a container.\n",
      "\n",
      "None\n"
     ]
    }
   ],
   "source": [
    "print(help(len))"
   ]
  },
  {
   "cell_type": "markdown",
   "metadata": {
    "colab_type": "text",
    "id": "KrcuFTuAYruT"
   },
   "source": [
    "<h2>Soal 2: Built-in Function</h2>\n",
    "\n",
    "Jawab Pertanyaan di bawah ini:\n",
    "    \n",
    "Apa itu built-in Function?\n",
    "\n",
    "Sebutkan 3 built-in Function di pyhon!\n",
    "\n",
    "Berikan contoh masing2 1 cara penggunaan built-in function yang kamu sebutkan sebelumnya"
   ]
  },
  {
   "cell_type": "markdown",
   "metadata": {
    "colab_type": "text",
    "id": "xro-58_CYruW"
   },
   "source": [
    "Built-in Function adalah fungsi yang merupakan bawaan dari python itu sendiri sehingga kita dapat langsung menggunakannya tanpa harus menginstall nya ke dalam python bawaan kita.\n",
    "contoh built-in function pada python adalah :\n",
    "len(),bool(),type()"
   ]
  },
  {
   "cell_type": "code",
   "execution_count": 4,
   "metadata": {
    "colab": {},
    "colab_type": "code",
    "id": "Xv7lHkgfYruY"
   },
   "outputs": [
    {
     "name": "stdout",
     "output_type": "stream",
     "text": [
      "5\n",
      "True\n",
      "<class 'str'>\n"
     ]
    }
   ],
   "source": [
    "Variable = 'wahyu'\n",
    "print(len(Variable))\n",
    "print(bool(Variable))\n",
    "print(type(Variable))"
   ]
  },
  {
   "cell_type": "markdown",
   "metadata": {
    "colab_type": "text",
    "id": "yhWXiPNDYrul"
   },
   "source": [
    "<h2>Soal 3: Method dan Function</h2>\n",
    "\n",
    "Jawab Pertanyaan di bawah ini:\n",
    "    \n",
    "- Apa perbedaan method dan function?"
   ]
  },
  {
   "cell_type": "markdown",
   "metadata": {
    "colab_type": "text",
    "id": "rqpTJlgDYrun"
   },
   "source": [
    "Fungsi adalah suatu sebuah statement yang dibuat di dalam blok dengan cara penulisan yang telah ditentukan, agar dapat digunakan terus menerus. Fungsi ini bisa merupakan bawaan dari python itu sendiri seperti built-in function atau bisa juga kita definisikan sendiri dan berjalan sendiri.\n",
    "Method adalah sesuatu yang sama seperti fungsi namun dia di merupakan bagian dari class yang sudah kita definisikan sebelumnya. "
   ]
  },
  {
   "cell_type": "markdown",
   "metadata": {
    "colab_type": "text",
    "id": "tUU1xgYBYrup"
   },
   "source": [
    "<h2>Soal 4: Menggunkan Method String</h2>\n",
    "\n",
    "Lengkapi kode untuk menghasilkan suatu output yang di harapkan"
   ]
  },
  {
   "cell_type": "code",
   "execution_count": 5,
   "metadata": {
    "colab": {},
    "colab_type": "code",
    "id": "037gauOGYrur"
   },
   "outputs": [
    {
     "name": "stdout",
     "output_type": "stream",
     "text": [
      "CORONA CEPAT SELESAI\n",
      "3\n"
     ]
    }
   ],
   "source": [
    "kalimat = \"Corona cepat selesai\"\n",
    "\n",
    "# gunakan method untuk mengubah nilai kalimat menjadi uppercase semua kemudian tampilkan hasilnya\n",
    "print(kalimat.upper())\n",
    "\n",
    "# gunakan method untuk menghitung berapa huruf e di dalam kalimat\n",
    "print(kalimat.count('e'))"
   ]
  },
  {
   "cell_type": "markdown",
   "metadata": {
    "colab_type": "text",
    "id": "fPTd4R5VYru5"
   },
   "source": [
    "Expected Output:\n",
    "\n",
    "CORONA CEPAT SELESAI\n",
    "\n",
    "3"
   ]
  },
  {
   "cell_type": "markdown",
   "metadata": {
    "colab_type": "text",
    "id": "IPjp5vwDYrvL"
   },
   "source": [
    "<h2>Soal 5: Membuat Simple Function</h2>\n",
    "\n",
    "Buatlah suatu fungsi yang menerima satu input argumen berbentuk list dan mempunyai elemen bertipe numeric semua, dimana fungsi tersebut berguna untuk menghitung rata2 dari kumpulan elemen list tersebut. namai fungsi tersebut 'mean_list'"
   ]
  },
  {
   "cell_type": "code",
   "execution_count": 14,
   "metadata": {
    "colab": {},
    "colab_type": "code",
    "id": "smoKI9zIYrvO"
   },
   "outputs": [
    {
     "name": "stdout",
     "output_type": "stream",
     "text": [
      "13.9\n"
     ]
    }
   ],
   "source": [
    "rata = 0\n",
    "obj_list = [11.25, 18.0, 20.0, 10.75, 9.50]\n",
    "def mean_list(inp_list):\n",
    "    global rata\n",
    "    for i in obj_list:\n",
    "        rata += float(i)\n",
    "    return rata/len(obj_list)\n",
    "    \n",
    "print(mean_list(obj_list))"
   ]
  },
  {
   "cell_type": "markdown",
   "metadata": {
    "colab_type": "text",
    "id": "MVAvoHHgYrva"
   },
   "source": [
    "Expected Output:\n",
    "\n",
    "13.9"
   ]
  },
  {
   "cell_type": "markdown",
   "metadata": {
    "colab_type": "text",
    "id": "A8jjpNC8Yrvc"
   },
   "source": [
    "<h2>Soal 6: Membuat Function dengan Multiple arguments</h2>\n",
    "\n",
    "Buatlah suatu fungsi untuk melakukan penggabungan antara dua list"
   ]
  },
  {
   "cell_type": "code",
   "execution_count": 24,
   "metadata": {
    "colab": {},
    "colab_type": "code",
    "id": "r42z4mafYrve"
   },
   "outputs": [
    {
     "name": "stdout",
     "output_type": "stream",
     "text": [
      "[2, 4, 5, 6, 1, 2, 3]\n"
     ]
    }
   ],
   "source": [
    "obj_list = [2, 4, 5, 6]\n",
    "obj_penambah = [1, 2, 3]\n",
    "\n",
    "def kali_list(obj_list,obj_penambah):\n",
    "    hasil = obj_list[:]+obj_penambah[:]\n",
    "    return hasil\n",
    "    \n",
    "print(kali_list(obj_list, obj_penambah))"
   ]
  },
  {
   "cell_type": "markdown",
   "metadata": {
    "colab_type": "text",
    "id": "RYhU921kYrvp"
   },
   "source": [
    "Expected Output:\n",
    "\n",
    "[2, 4, 5, 6, 1, 2, 3]"
   ]
  }
 ],
 "metadata": {
  "colab": {
   "collapsed_sections": [],
   "name": "Tugas Hari 2.ipynb",
   "provenance": []
  },
  "kernelspec": {
   "display_name": "Python 3",
   "language": "python",
   "name": "python3"
  },
  "language_info": {
   "codemirror_mode": {
    "name": "ipython",
    "version": 3
   },
   "file_extension": ".py",
   "mimetype": "text/x-python",
   "name": "python",
   "nbconvert_exporter": "python",
   "pygments_lexer": "ipython3",
   "version": "3.8.3"
  }
 },
 "nbformat": 4,
 "nbformat_minor": 1
}
