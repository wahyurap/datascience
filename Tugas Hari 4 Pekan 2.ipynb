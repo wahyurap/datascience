{
 "cells": [
  {
   "cell_type": "markdown",
   "metadata": {
    "colab_type": "text",
    "id": "1QERX9FCGhek"
   },
   "source": [
    "<b>Note</b>: Pada kuis kali ini kita akan menggunakan data diamonds.csv yang bisa kalian download [disini](https://drive.google.com/uc?export=download&id=1qQiM9utQUThTPq8jk8stPMh_y2zfqYOd). setelah di download, kalian pindahkan data tersebut satu level dengan direktori file notebook ini.\n"
   ]
  },
  {
   "cell_type": "code",
   "execution_count": 19,
   "metadata": {
    "colab": {},
    "colab_type": "code",
    "id": "lNDQlQwYGhfy"
   },
   "outputs": [],
   "source": [
    "import pandas as pd\n",
    "import numpy as np\n",
    "df = pd.read_csv('diamonds-3.csv')\n",
    "df.drop('Unnamed: 0', axis=1, inplace=True)"
   ]
  },
  {
   "cell_type": "code",
   "execution_count": null,
   "metadata": {
    "colab": {},
    "colab_type": "code",
    "id": "JheA7Y3dGhgM",
    "outputId": "f2931f42-1a2c-4704-f88f-e08572d69315"
   },
   "outputs": [],
   "source": []
  },
  {
   "cell_type": "markdown",
   "metadata": {
    "colab_type": "text",
    "id": "pmVAJ-osGhg5"
   },
   "source": [
    "Columns Metadata:\n",
    "\n",
    "carat: berat diamond\n",
    "\n",
    "cut: kualitas diamond\n",
    "\n",
    "color: warna diamond\n",
    "\n",
    "clarity: level kemurnian diamonds\n",
    "\n",
    "depth: tinggi dari diamond tabel\n",
    "\n",
    "table: lebar  dari diamond tabel\n",
    "\n",
    "price: harga diamond ($US)\n",
    "\n",
    "x: panjang\n",
    "\n",
    "y: lebar\n",
    "\n",
    "z: kedalaaman"
   ]
  },
  {
   "cell_type": "markdown",
   "metadata": {
    "colab_type": "text",
    "id": "-kEXjJD-Ghg8"
   },
   "source": [
    "<h2>Soal 1: Process Grouping</h2>\n",
    "\n",
    "Jelaskan prosess yang terjadi dalam grouping data menggungkan method <b>groupby()</b> dari pandas."
   ]
  },
  {
   "cell_type": "markdown",
   "metadata": {
    "colab_type": "text",
    "id": "v6HbDnJiGhg_"
   },
   "source": [
    "jawab: fungsi digunakan untuk membagi data menjadi beberapa kelompok berdasarkan beberapa kriteria. objek panda dapat dibagi di salah satu axisnya."
   ]
  },
  {
   "cell_type": "markdown",
   "metadata": {
    "colab_type": "text",
    "id": "temY99a4GhhD"
   },
   "source": [
    "<h2>Soal 2: Grouping All Column</h2>\n",
    "    \n",
    "Group data diamond berdasarkan cut (kualitas), lakukan aggregasi dengan fungsi rata2.\n",
    "\n",
    "Kemudian jawab pertanyaan berikut.\n",
    "- Berapa harga rata2 dari diamond berkualitas Premium"
   ]
  },
  {
   "cell_type": "markdown",
   "metadata": {
    "colab_type": "text",
    "id": "Bz0zPLO-Ghhv"
   },
   "source": [
    "Expected Output:\n",
    "\n",
    "![alt text](https://drive.google.com/uc?id=1GKanuLzNv_pYBFVRBmQywxQw39uQBvSl)"
   ]
  },
  {
   "cell_type": "code",
   "execution_count": 20,
   "metadata": {
    "colab": {},
    "colab_type": "code",
    "id": "OIVMdxK6GhhH"
   },
   "outputs": [
    {
     "name": "stdout",
     "output_type": "stream",
     "text": [
      "              carat      depth      table        price\n",
      "               mean       mean       mean         mean\n",
      "cut                                                   \n",
      "Fair       1.046137  64.041677  59.053789  4358.757764\n",
      "Good       0.849185  62.365879  58.694639  3928.864452\n",
      "Ideal      0.702837  61.709401  55.951668  3457.541970\n",
      "Premium    0.891955  61.264673  58.746095  4584.257704\n",
      "Very Good  0.806381  61.818275  57.956150  3981.759891\n"
     ]
    }
   ],
   "source": [
    "a = df.groupby(['cut'])[['carat','depth','table','price']].agg(['mean'])\n",
    "print(a)"
   ]
  },
  {
   "cell_type": "markdown",
   "metadata": {
    "colab_type": "text",
    "id": "tB2JeNoiGhhn"
   },
   "source": [
    "jawab:4584.257704"
   ]
  },
  {
   "cell_type": "markdown",
   "metadata": {
    "colab_type": "text",
    "id": "VdcJdIavGhh7"
   },
   "source": [
    "<h2>Soal 3: Grouping Some Column base on Multiple Criteria</h2>\n",
    "    \n",
    "Lakukan groupby pada data berdasarkan kriteria cut (kualitas) dan color (warna) secara berurutan, dengan aggregasi pada column carat, table, dan price saja. dengan fungsi agregasi rata-rata.\n",
    "\n",
    "Kemudian jawab pertanyaan berikut:\n",
    "- Berapa harga diamond yang berkriteria premium dan berwarna J\n",
    "- Berapa nilai dari carat diamond yang berkriteria very good dan berwarna H"
   ]
  },
  {
   "cell_type": "markdown",
   "metadata": {
    "colab_type": "text",
    "id": "2GkwtzXZGhiB"
   },
   "source": [
    "Expected Output:\n",
    "\n",
    "Note: gambar hanya sebagaian dari keseluruhan data\n",
    "\n",
    "![alt text](https://drive.google.com/uc?id=1XB_uHor7ZCPQUH9uQjSfd6aC6_yJnjh9)"
   ]
  },
  {
   "cell_type": "code",
   "execution_count": 21,
   "metadata": {
    "colab": {},
    "colab_type": "code",
    "id": "xmlLKQz8GhiD"
   },
   "outputs": [
    {
     "name": "stdout",
     "output_type": "stream",
     "text": [
      "                    carat      table        price\n",
      "cut       color                                  \n",
      "Fair      D      0.920123  58.969325  4291.061350\n",
      "          E      0.856607  59.364732  3682.312500\n",
      "          F      0.904712  59.453205  3827.003205\n",
      "          G      1.023822  58.773248  4239.254777\n",
      "          H      1.219175  58.696370  5135.683168\n",
      "          I      1.198057  59.237143  4685.445714\n",
      "          J      1.341176  58.917647  4975.655462\n",
      "Good      D      0.744517  58.541541  3405.382175\n",
      "          E      0.745134  58.779957  3423.644159\n",
      "          F      0.775930  58.910891  3495.750275\n",
      "          G      0.850896  58.471986  4123.482204\n",
      "          H      0.914729  58.611111  4276.254986\n",
      "          I      1.057222  58.773946  5078.532567\n",
      "          J      1.099544  58.813029  4574.172638\n",
      "Ideal     D      0.565766  55.965632  2629.094566\n",
      "          E      0.578401  55.967461  2597.550090\n",
      "          F      0.655829  55.924203  3374.939362\n",
      "          G      0.700715  55.902375  3720.706388\n",
      "          H      0.799525  55.965843  3889.334831\n",
      "          I      0.913029  56.021357  4451.970377\n",
      "          J      1.063594  56.012612  4918.186384\n",
      "Premium   D      0.721547  58.718964  3631.292576\n",
      "          E      0.717745  58.779461  3538.914420\n",
      "          F      0.827036  58.679279  4324.890176\n",
      "          G      0.841488  58.702360  4500.742134\n",
      "          H      1.016449  58.792034  5216.706780\n",
      "          I      1.144937  58.771849  5946.180672\n",
      "          J      1.293094  58.874752  6294.591584\n",
      "Very Good D      0.696424  58.041309  3470.467284\n",
      "          E      0.676317  58.038875  3214.652083\n",
      "          F      0.740961  57.848429  3778.820240\n",
      "          G      0.766799  57.784428  3872.753806\n",
      "          H      0.915948  57.903015  4535.390351\n",
      "          I      1.046952  58.105150  5255.879568\n",
      "          J      1.133215  58.277729  5103.513274\n"
     ]
    }
   ],
   "source": [
    "a = df.groupby(['cut','color'])[['carat','table','price']].mean()\n",
    "print(a)"
   ]
  },
  {
   "cell_type": "markdown",
   "metadata": {
    "colab_type": "text",
    "id": "mqRSXpr3GhiY"
   },
   "source": [
    "jawab:\n",
    "1. 3631.292576\n",
    "2. 0.915948"
   ]
  },
  {
   "cell_type": "markdown",
   "metadata": {
    "colab_type": "text",
    "id": "zXQ97SvEGhie"
   },
   "source": [
    "<h2>Soal 4: Group By Multiple Aggregate Base on Multiple Criteria</h2>\n",
    "    \n",
    "Lakukan groupby pada data berdasarkan kriteria cut(kualitas) dan color (warna) secara berurutan kemudian aggregasi objek group by nya dengan fungsi rata2 dan median.\n",
    "\n",
    "Kemudian Jawab Pertanyaan berikut:\n",
    "\n",
    "- Berapa nilai median dari harga diamond berkualitas good dan berwarna F"
   ]
  },
  {
   "cell_type": "markdown",
   "metadata": {
    "colab_type": "text",
    "id": "6TA0499MGhj5"
   },
   "source": [
    "Expected Output:\n",
    "\n",
    "Note : gambar hanya sebagaian dari keseluruhan data\n",
    "\n",
    "![alt text](https://drive.google.com/uc?id=1fUPIse5ELrzj26ZyWBqsAVOUb6yf7UoD)"
   ]
  },
  {
   "cell_type": "code",
   "execution_count": 22,
   "metadata": {
    "colab": {},
    "colab_type": "code",
    "id": "UvOZJYRKGhjP"
   },
   "outputs": [
    {
     "name": "stdout",
     "output_type": "stream",
     "text": [
      "                       price        \n",
      "                        mean  median\n",
      "cut       color                     \n",
      "Fair      D      4291.061350  3730.0\n",
      "          E      3682.312500  2956.0\n",
      "          F      3827.003205  3035.0\n",
      "          G      4239.254777  3057.0\n",
      "          H      5135.683168  3816.0\n",
      "          I      4685.445714  3246.0\n",
      "          J      4975.655462  3302.0\n",
      "Good      D      3405.382175  2728.5\n",
      "          E      3423.644159  2420.0\n",
      "          F      3495.750275  2647.0\n",
      "          G      4123.482204  3340.0\n",
      "          H      4276.254986  3468.5\n",
      "          I      5078.532567  3639.5\n",
      "          J      4574.172638  3733.0\n",
      "Ideal     D      2629.094566  1576.0\n",
      "          E      2597.550090  1437.0\n",
      "          F      3374.939362  1775.0\n",
      "          G      3720.706388  1857.5\n",
      "          H      3889.334831  2278.0\n",
      "          I      4451.970377  2659.0\n",
      "          J      4918.186384  4096.0\n",
      "Premium   D      3631.292576  2009.0\n",
      "          E      3538.914420  1928.0\n",
      "          F      4324.890176  2841.0\n",
      "          G      4500.742134  2745.0\n",
      "          H      5216.706780  4511.0\n",
      "          I      5946.180672  4640.0\n",
      "          J      6294.591584  5063.0\n",
      "Very Good D      3470.467284  2310.0\n",
      "          E      3214.652083  1989.5\n",
      "          F      3778.820240  2471.0\n",
      "          G      3872.753806  2437.0\n",
      "          H      4535.390351  3734.0\n",
      "          I      5255.879568  3888.0\n",
      "          J      5103.513274  4113.0\n"
     ]
    }
   ],
   "source": [
    "c = df.groupby(['cut','color'])[['price']].agg(['mean','median'])\n",
    "print(c)"
   ]
  },
  {
   "cell_type": "markdown",
   "metadata": {
    "colab_type": "text",
    "id": "lB5yJfJWGhj2"
   },
   "source": [
    "jawab:"
   ]
  },
  {
   "cell_type": "markdown",
   "metadata": {
    "colab_type": "text",
    "id": "w9Qklr3CGhj8"
   },
   "source": [
    "<h2>Soal 5: Group By With Different Aggregation for specific Column</h2>\n",
    "    \n",
    "Lakukan groupby pada data berdasarkan criteria cut(kualitas), kemudian aggreagate dengan fungsi max pada column price dan fungsi min pada column carat.\n",
    "\n",
    "Kemudian Jawab Pertanyaan berikut:\n",
    "\n",
    "- Berapa nilai max dari price untuk diamond berkualitas Ideal"
   ]
  },
  {
   "cell_type": "markdown",
   "metadata": {
    "colab_type": "text",
    "id": "MA8OwHDRGhkd"
   },
   "source": [
    "Expected Output:\n",
    "\n",
    "![alt text](https://drive.google.com/uc?id=1B_z5PBkLe4hNJJJV3JgDGP9G--llytKf)"
   ]
  },
  {
   "cell_type": "code",
   "execution_count": 23,
   "metadata": {
    "colab": {},
    "colab_type": "code",
    "id": "AuOhb4TQGhkg"
   },
   "outputs": [
    {
     "name": "stdout",
     "output_type": "stream",
     "text": [
      "           price  carat\n",
      "cut                    \n",
      "Fair       18574   0.22\n",
      "Good       18788   0.23\n",
      "Ideal      18806   0.20\n",
      "Premium    18823   0.20\n",
      "Very Good  18818   0.20\n"
     ]
    }
   ],
   "source": [
    "a = df.groupby('cut')[['price']].max()\n",
    "b = df.groupby('cut')[['carat']].min()\n",
    "c = pd.concat([a,b],axis=1 , join='inner')\n",
    "print(c)"
   ]
  },
  {
   "cell_type": "markdown",
   "metadata": {
    "colab_type": "text",
    "id": "S7c5_ilkGhkz"
   },
   "source": [
    "jawab:"
   ]
  },
  {
   "cell_type": "markdown",
   "metadata": {
    "colab_type": "text",
    "id": "2vxLM-yuGhk2"
   },
   "source": [
    "<h2>Soal 6: Group By With Custom Function</h2>\n",
    "    \n",
    "Lakukan groupby pada data berdasarkan criteria cut(kualitas), kemudian lakukan aggregasi dengan fungsi standar deviasi pada column carat dan fungsi rentang nilai antara max dan min pada column price.\n",
    "\n",
    "Kemudian jawab pertanyaan berikut:\n",
    "- Berapa selisih harga tertinggi dan terendah dari diamond berkualitas Premium"
   ]
  },
  {
   "cell_type": "markdown",
   "metadata": {
    "colab_type": "text",
    "id": "deIpFAupGhk5"
   },
   "source": [
    "Expected Output:\n",
    "\n",
    "![alt text](https://drive.google.com/uc?id=1bl6_8KryXCxLfzpAf4YF80Qvt15a3uQ6)"
   ]
  },
  {
   "cell_type": "code",
   "execution_count": 26,
   "metadata": {
    "colab": {},
    "colab_type": "code",
    "id": "jCXk1nPFGhk8"
   },
   "outputs": [
    {
     "name": "stdout",
     "output_type": "stream",
     "text": [
      "           price     carat\n",
      "cut                       \n",
      "Fair       18237  0.516404\n",
      "Good       18461  0.454054\n",
      "Ideal      18480  0.432876\n",
      "Premium    18497  0.515262\n",
      "Very Good  18482  0.459435\n"
     ]
    }
   ],
   "source": [
    "a = df.groupby(['cut'])[['price','carat']].agg(price=('price',np.ptp),carat=('carat',np.std))\n",
    "print(a)"
   ]
  },
  {
   "cell_type": "markdown",
   "metadata": {
    "colab_type": "text",
    "id": "flh36TqMGhlZ"
   },
   "source": [
    "jawab:18496.484738 "
   ]
  }
 ],
 "metadata": {
  "colab": {
   "collapsed_sections": [],
   "name": "Tugas Hari 4 Pekan 2.ipynb",
   "provenance": []
  },
  "kernelspec": {
   "display_name": "Python 3",
   "language": "python",
   "name": "python3"
  },
  "language_info": {
   "codemirror_mode": {
    "name": "ipython",
    "version": 3
   },
   "file_extension": ".py",
   "mimetype": "text/x-python",
   "name": "python",
   "nbconvert_exporter": "python",
   "pygments_lexer": "ipython3",
   "version": "3.8.3"
  }
 },
 "nbformat": 4,
 "nbformat_minor": 1
}
