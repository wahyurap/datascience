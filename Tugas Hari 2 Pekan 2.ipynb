{
 "cells": [
  {
   "cell_type": "code",
   "execution_count": 116,
   "metadata": {
    "colab": {},
    "colab_type": "code",
    "id": "GyakVoXhBGrv",
    "outputId": "39b8ca38-73c2-4f96-a16b-9898575919b9"
   },
   "outputs": [
    {
     "data": {
      "text/html": [
       "<div>\n",
       "<style scoped>\n",
       "    .dataframe tbody tr th:only-of-type {\n",
       "        vertical-align: middle;\n",
       "    }\n",
       "\n",
       "    .dataframe tbody tr th {\n",
       "        vertical-align: top;\n",
       "    }\n",
       "\n",
       "    .dataframe thead th {\n",
       "        text-align: right;\n",
       "    }\n",
       "</style>\n",
       "<table border=\"1\" class=\"dataframe\">\n",
       "  <thead>\n",
       "    <tr style=\"text-align: right;\">\n",
       "      <th></th>\n",
       "      <th>siswa_id</th>\n",
       "      <th>pelajaran</th>\n",
       "      <th>nilai</th>\n",
       "      <th>jenis_kelamin</th>\n",
       "      <th>kelas</th>\n",
       "    </tr>\n",
       "  </thead>\n",
       "  <tbody>\n",
       "    <tr>\n",
       "      <th>0</th>\n",
       "      <td>1</td>\n",
       "      <td>Biologi</td>\n",
       "      <td>63</td>\n",
       "      <td>perempuan</td>\n",
       "      <td>12B</td>\n",
       "    </tr>\n",
       "    <tr>\n",
       "      <th>1</th>\n",
       "      <td>2</td>\n",
       "      <td>Ekonomi</td>\n",
       "      <td>11</td>\n",
       "      <td>perempuan</td>\n",
       "      <td>12C</td>\n",
       "    </tr>\n",
       "    <tr>\n",
       "      <th>2</th>\n",
       "      <td>3</td>\n",
       "      <td>Matematika</td>\n",
       "      <td>34</td>\n",
       "      <td>laki-laki</td>\n",
       "      <td>12D</td>\n",
       "    </tr>\n",
       "    <tr>\n",
       "      <th>3</th>\n",
       "      <td>4</td>\n",
       "      <td>Matematika</td>\n",
       "      <td>16</td>\n",
       "      <td>laki-laki</td>\n",
       "      <td>12B</td>\n",
       "    </tr>\n",
       "    <tr>\n",
       "      <th>4</th>\n",
       "      <td>5</td>\n",
       "      <td>Geologi</td>\n",
       "      <td>4</td>\n",
       "      <td>perempuan</td>\n",
       "      <td>12B</td>\n",
       "    </tr>\n",
       "  </tbody>\n",
       "</table>\n",
       "</div>"
      ],
      "text/plain": [
       "   siswa_id   pelajaran  nilai jenis_kelamin kelas\n",
       "0         1     Biologi     63     perempuan   12B\n",
       "1         2     Ekonomi     11     perempuan   12C\n",
       "2         3  Matematika     34     laki-laki   12D\n",
       "3         4  Matematika     16     laki-laki   12B\n",
       "4         5     Geologi      4     perempuan   12B"
      ]
     },
     "execution_count": 116,
     "metadata": {},
     "output_type": "execute_result"
    }
   ],
   "source": [
    "# Persiapan membuat data\n",
    "import pandas as pd\n",
    "import random\n",
    "\n",
    "pelajaran = ['Matematika', 'Fisika', 'Biologi', 'Kimia', 'Geologi', 'Ekonomi']\n",
    "kelas = ['12A', '12B', '12C', '12D']\n",
    "\n",
    "hasil_nilai = {\n",
    "    'siswa_id' : range(1, 21),\n",
    "    'pelajaran' : [random.choice(pelajaran) for i in range(20)],\n",
    "    'nilai' : [random.choice(range(0, 100)) for i in range(20)],\n",
    "    'jenis_kelamin' : [random.choice(['laki-laki', 'perempuan']) for i in range(20)],\n",
    "    'kelas' : [random .choice(kelas) for i in range(20)]\n",
    "}\n",
    "\n",
    "df = pd.DataFrame(hasil_nilai)\n",
    "df.head()"
   ]
  },
  {
   "cell_type": "markdown",
   "metadata": {
    "colab_type": "text",
    "id": "aNoScqypBGr5"
   },
   "source": [
    "<h2>Soal 1: Indexing</h2>\n",
    "\n",
    "1. Lakukan indexing terhadap dataframe untuk mengakses column nilai dan kelas saja\n",
    "2. Lakukan indexing terhadap dataframe untuk mengakses row 5 sampai 10 beserta column pelajaran dan nilai"
   ]
  },
  {
   "cell_type": "code",
   "execution_count": 131,
   "metadata": {
    "colab": {},
    "colab_type": "code",
    "id": "rKmgvnS2BGr6",
    "scrolled": true
   },
   "outputs": [
    {
     "name": "stdout",
     "output_type": "stream",
     "text": [
      "12B\n",
      "Geologi\n"
     ]
    }
   ],
   "source": [
    "print(df.loc[3 , 'kelas'])\n",
    "print(df.loc[5,'pelajaran'])\n"
   ]
  },
  {
   "cell_type": "markdown",
   "metadata": {
    "colab_type": "text",
    "id": "F55zUl5GBGr_"
   },
   "source": [
    "<h2>Soal 2: Filter DataFrame Dengan Boolean</h2>\n",
    "\n",
    "1. Tampilkan semua data siswa pada mata pelajaran Ekonomi dan Fisika\n",
    "2. Tampilkan semua data siswa yang mempunyai nilai lebih dari 50 di mata pelajaran Kimia \n",
    "3. Tampilkan semua data yang mempunyai nilai lebih dari 70, berjnis kelamin perempuan dan di kelas 12C"
   ]
  },
  {
   "cell_type": "code",
   "execution_count": 119,
   "metadata": {
    "colab": {},
    "colab_type": "code",
    "id": "eB5oSf_KBGsA"
   },
   "outputs": [
    {
     "data": {
      "text/html": [
       "<div>\n",
       "<style scoped>\n",
       "    .dataframe tbody tr th:only-of-type {\n",
       "        vertical-align: middle;\n",
       "    }\n",
       "\n",
       "    .dataframe tbody tr th {\n",
       "        vertical-align: top;\n",
       "    }\n",
       "\n",
       "    .dataframe thead th {\n",
       "        text-align: right;\n",
       "    }\n",
       "</style>\n",
       "<table border=\"1\" class=\"dataframe\">\n",
       "  <thead>\n",
       "    <tr style=\"text-align: right;\">\n",
       "      <th></th>\n",
       "      <th>siswa_id</th>\n",
       "      <th>pelajaran</th>\n",
       "      <th>nilai</th>\n",
       "      <th>jenis_kelamin</th>\n",
       "      <th>kelas</th>\n",
       "    </tr>\n",
       "  </thead>\n",
       "  <tbody>\n",
       "    <tr>\n",
       "      <th>1</th>\n",
       "      <td>2</td>\n",
       "      <td>Ekonomi</td>\n",
       "      <td>11</td>\n",
       "      <td>perempuan</td>\n",
       "      <td>12C</td>\n",
       "    </tr>\n",
       "    <tr>\n",
       "      <th>8</th>\n",
       "      <td>9</td>\n",
       "      <td>Fisika</td>\n",
       "      <td>25</td>\n",
       "      <td>perempuan</td>\n",
       "      <td>12A</td>\n",
       "    </tr>\n",
       "    <tr>\n",
       "      <th>9</th>\n",
       "      <td>10</td>\n",
       "      <td>Ekonomi</td>\n",
       "      <td>37</td>\n",
       "      <td>perempuan</td>\n",
       "      <td>12D</td>\n",
       "    </tr>\n",
       "    <tr>\n",
       "      <th>12</th>\n",
       "      <td>13</td>\n",
       "      <td>Ekonomi</td>\n",
       "      <td>40</td>\n",
       "      <td>laki-laki</td>\n",
       "      <td>12B</td>\n",
       "    </tr>\n",
       "    <tr>\n",
       "      <th>17</th>\n",
       "      <td>18</td>\n",
       "      <td>Ekonomi</td>\n",
       "      <td>37</td>\n",
       "      <td>laki-laki</td>\n",
       "      <td>12D</td>\n",
       "    </tr>\n",
       "    <tr>\n",
       "      <th>18</th>\n",
       "      <td>19</td>\n",
       "      <td>Fisika</td>\n",
       "      <td>71</td>\n",
       "      <td>perempuan</td>\n",
       "      <td>12A</td>\n",
       "    </tr>\n",
       "  </tbody>\n",
       "</table>\n",
       "</div>"
      ],
      "text/plain": [
       "    siswa_id pelajaran  nilai jenis_kelamin kelas\n",
       "1          2   Ekonomi     11     perempuan   12C\n",
       "8          9    Fisika     25     perempuan   12A\n",
       "9         10   Ekonomi     37     perempuan   12D\n",
       "12        13   Ekonomi     40     laki-laki   12B\n",
       "17        18   Ekonomi     37     laki-laki   12D\n",
       "18        19    Fisika     71     perempuan   12A"
      ]
     },
     "execution_count": 119,
     "metadata": {},
     "output_type": "execute_result"
    }
   ],
   "source": [
    "#1 \n",
    "eko = df.pelajaran ==\"Ekonomi\"\n",
    "fis = df.pelajaran ==\"Fisika\"\n",
    "df[(eko | fis)] "
   ]
  },
  {
   "cell_type": "code",
   "execution_count": 120,
   "metadata": {},
   "outputs": [
    {
     "data": {
      "text/html": [
       "<div>\n",
       "<style scoped>\n",
       "    .dataframe tbody tr th:only-of-type {\n",
       "        vertical-align: middle;\n",
       "    }\n",
       "\n",
       "    .dataframe tbody tr th {\n",
       "        vertical-align: top;\n",
       "    }\n",
       "\n",
       "    .dataframe thead th {\n",
       "        text-align: right;\n",
       "    }\n",
       "</style>\n",
       "<table border=\"1\" class=\"dataframe\">\n",
       "  <thead>\n",
       "    <tr style=\"text-align: right;\">\n",
       "      <th></th>\n",
       "      <th>siswa_id</th>\n",
       "      <th>pelajaran</th>\n",
       "      <th>nilai</th>\n",
       "      <th>jenis_kelamin</th>\n",
       "      <th>kelas</th>\n",
       "    </tr>\n",
       "  </thead>\n",
       "  <tbody>\n",
       "    <tr>\n",
       "      <th>15</th>\n",
       "      <td>16</td>\n",
       "      <td>Kimia</td>\n",
       "      <td>67</td>\n",
       "      <td>perempuan</td>\n",
       "      <td>12C</td>\n",
       "    </tr>\n",
       "    <tr>\n",
       "      <th>19</th>\n",
       "      <td>20</td>\n",
       "      <td>Kimia</td>\n",
       "      <td>81</td>\n",
       "      <td>perempuan</td>\n",
       "      <td>12A</td>\n",
       "    </tr>\n",
       "  </tbody>\n",
       "</table>\n",
       "</div>"
      ],
      "text/plain": [
       "    siswa_id pelajaran  nilai jenis_kelamin kelas\n",
       "15        16     Kimia     67     perempuan   12C\n",
       "19        20     Kimia     81     perempuan   12A"
      ]
     },
     "execution_count": 120,
     "metadata": {},
     "output_type": "execute_result"
    }
   ],
   "source": [
    "#2 \n",
    "n = df.nilai > 50 \n",
    "kim = df.pelajaran==\"Kimia\" \n",
    "df[(n) & (kim) ]"
   ]
  },
  {
   "cell_type": "code",
   "execution_count": 121,
   "metadata": {},
   "outputs": [
    {
     "data": {
      "text/html": [
       "<div>\n",
       "<style scoped>\n",
       "    .dataframe tbody tr th:only-of-type {\n",
       "        vertical-align: middle;\n",
       "    }\n",
       "\n",
       "    .dataframe tbody tr th {\n",
       "        vertical-align: top;\n",
       "    }\n",
       "\n",
       "    .dataframe thead th {\n",
       "        text-align: right;\n",
       "    }\n",
       "</style>\n",
       "<table border=\"1\" class=\"dataframe\">\n",
       "  <thead>\n",
       "    <tr style=\"text-align: right;\">\n",
       "      <th></th>\n",
       "      <th>siswa_id</th>\n",
       "      <th>pelajaran</th>\n",
       "      <th>nilai</th>\n",
       "      <th>jenis_kelamin</th>\n",
       "      <th>kelas</th>\n",
       "    </tr>\n",
       "  </thead>\n",
       "  <tbody>\n",
       "    <tr>\n",
       "      <th>10</th>\n",
       "      <td>11</td>\n",
       "      <td>Matematika</td>\n",
       "      <td>73</td>\n",
       "      <td>perempuan</td>\n",
       "      <td>12C</td>\n",
       "    </tr>\n",
       "  </tbody>\n",
       "</table>\n",
       "</div>"
      ],
      "text/plain": [
       "    siswa_id   pelajaran  nilai jenis_kelamin kelas\n",
       "10        11  Matematika     73     perempuan   12C"
      ]
     },
     "execution_count": 121,
     "metadata": {},
     "output_type": "execute_result"
    }
   ],
   "source": [
    "#3 \n",
    "nilai_70 = df.nilai > 70 \n",
    "women = df.jenis_kelamin =='perempuan' \n",
    "kelas = df.kelas == '12C'\n",
    "df[(nilai_70) & (women) & (kelas)]"
   ]
  },
  {
   "cell_type": "markdown",
   "metadata": {
    "colab_type": "text",
    "id": "6Od6R3H1BGsE"
   },
   "source": [
    "<h2>Soal 3: Data Transformation</h2>\n",
    "\n",
    "lakukan data transformasi terhadap column 'nilai' dengan fungsi transformasi, berikut rumus dari normalisasi\n",
    "\n",
    "![alt text](https://drive.google.com/uc?id=1wed-EbRSTA0JP1ceDp6lcKBqH2yJ4aa3)"
   ]
  },
  {
   "cell_type": "code",
   "execution_count": 137,
   "metadata": {
    "colab": {},
    "colab_type": "code",
    "id": "qeV_iH8nBGsF"
   },
   "outputs": [
    {
     "name": "stdout",
     "output_type": "stream",
     "text": [
      "       nilai\n",
      "0   0.621053\n",
      "1   0.073684\n",
      "2   0.315789\n",
      "3   0.126316\n",
      "4   0.000000\n",
      "5   0.221053\n",
      "6   0.094737\n",
      "7   0.852632\n",
      "8   0.221053\n",
      "9   0.347368\n",
      "10  0.726316\n",
      "11  0.105263\n",
      "12  0.378947\n",
      "13  0.589474\n",
      "14  0.463158\n",
      "15  0.663158\n",
      "16  0.410526\n",
      "17  0.347368\n",
      "18  0.705263\n",
      "19  0.810526\n"
     ]
    }
   ],
   "source": [
    "def minus_minimum(nilai):\n",
    "    return nilai - nilai.min() \n",
    "transform = df[['nilai']].apply(minus_minimum)\n",
    "selisih = nilai.max() - nilai.min() \n",
    "x_norm = transform/selisih \n",
    "print(x_norm)"
   ]
  },
  {
   "cell_type": "code",
   "execution_count": null,
   "metadata": {},
   "outputs": [],
   "source": []
  }
 ],
 "metadata": {
  "colab": {
   "name": "Tugas Hari 2 Pekan 2.ipynb",
   "provenance": []
  },
  "kernelspec": {
   "display_name": "Python 3",
   "language": "python",
   "name": "python3"
  },
  "language_info": {
   "codemirror_mode": {
    "name": "ipython",
    "version": 3
   },
   "file_extension": ".py",
   "mimetype": "text/x-python",
   "name": "python",
   "nbconvert_exporter": "python",
   "pygments_lexer": "ipython3",
   "version": "3.8.3"
  }
 },
 "nbformat": 4,
 "nbformat_minor": 1
}
